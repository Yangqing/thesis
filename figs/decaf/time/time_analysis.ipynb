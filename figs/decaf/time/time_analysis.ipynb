{
 "metadata": {
  "name": ""
 },
 "nbformat": 3,
 "nbformat_minor": 0,
 "worksheets": [
  {
   "cells": [
    {
     "cell_type": "code",
     "collapsed": false,
     "input": [
      "import numpy as np\n",
      "import matplotlib as mpl\n",
      "from matplotlib import pyplot\n",
      "matplotlib.rcParams['font.size'] = 18\n",
      "time_vec = np.loadtxt('conv-time.txt', usecols=(2,))\n",
      "time_type = np.loadtxt('conv-time.txt', dtype=str, usecols=(0,))"
     ],
     "language": "python",
     "metadata": {},
     "outputs": []
    },
    {
     "cell_type": "code",
     "collapsed": false,
     "input": [
      "time_cum = np.hstack(([0], np.cumsum(time_vec)))\n",
      "print time_cum"
     ],
     "language": "python",
     "metadata": {},
     "outputs": []
    },
    {
     "cell_type": "code",
     "collapsed": false,
     "input": [
      "color_maps = {'c': 'yellowgreen', 'n': 'gold', 'f': 'lightskyblue', 'p': 'lightcoral'}\n",
      "fig = pyplot.figure(figsize=(10,2))\n",
      "ax = fig.add_axes([0.05, 0.4, 0.9, 0.5])\n",
      "bars_values = zip(time_cum[:-1], time_vec)\n",
      "ax.broken_barh(bars_values , (0, 1), facecolors=[color_maps[c] for c in time_type])\n",
      "_ = pyplot.yticks([])\n",
      "show_layer_ids = np.array([0, 2, 4, 6, 8, 10, 12, 15, 18, 21], dtype = np.int)\n",
      "show_layer_names = ['conv1', 'pool1', 'conv2', 'pool2', 'conv3', 'conv4', 'conv5', 'fc6', 'fc7', 'fc8']\n",
      "tick_location = (time_cum[show_layer_ids] + time_cum[show_layer_ids + 1]) / 2;\n",
      "_ = pyplot.xticks(tick_location, show_layer_names, rotation=45)\n",
      "_ = pyplot.axis([0, time_cum[-1], 0, 1])\n",
      "pyplot.savefig('time_sequence.pdf')"
     ],
     "language": "python",
     "metadata": {},
     "outputs": []
    },
    {
     "cell_type": "code",
     "collapsed": false,
     "input": [
      "accum_times = [sum(time_vec[time_type == c]) for c in ['c', 'n', 'f', 'p']]\n",
      "accum_times = accum_times / sum(accum_times)\n",
      "# The slices will be ordered and plotted counter-clockwise.\n",
      "labels = 'conv', 'neuron', 'fc', 'pool'\n",
      "colors = ['yellowgreen', 'gold', 'lightskyblue', 'lightcoral']\n",
      "explode = (0, 0, 0, 0) # only \"explode\" the 2nd slice (i.e. 'Hogs')\n",
      "pyplot.figure()\n",
      "pyplot.pie(accum_times, explode=explode, labels=labels, colors=colors,\n",
      "        autopct='%1.1f%%', shadow=True, startangle=60, pctdistance=0.6)\n",
      "# Set aspect ratio to be equal so that pie is drawn as a circle.\n",
      "pyplot.axis('equal')\n",
      "pyplot.savefig('time_piechart.pdf')"
     ],
     "language": "python",
     "metadata": {},
     "outputs": []
    },
    {
     "cell_type": "code",
     "collapsed": false,
     "input": [],
     "language": "python",
     "metadata": {},
     "outputs": []
    }
   ],
   "metadata": {}
  }
 ]
}